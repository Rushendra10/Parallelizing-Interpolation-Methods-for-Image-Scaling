{
  "nbformat": 4,
  "nbformat_minor": 0,
  "metadata": {
    "colab": {
      "provenance": []
    },
    "kernelspec": {
      "name": "python3",
      "display_name": "Python 3"
    },
    "language_info": {
      "name": "python"
    },
    "accelerator": "GPU",
    "gpuClass": "standard"
  },
  "cells": [
    {
      "cell_type": "code",
      "execution_count": null,
      "metadata": {
        "id": "bFCAwSDUbfZc",
        "colab": {
          "base_uri": "https://localhost:8080/"
        },
        "outputId": "742791d9-291f-4b72-e023-4ca452f0fa1b"
      },
      "outputs": [
        {
          "output_type": "stream",
          "name": "stdout",
          "text": [
            "Writing a.cu\n"
          ]
        }
      ],
      "source": [
        "%%writefile a.cu\n",
        "\n",
        "#include <opencv2/opencv.hpp>\n",
        "#include <iostream>\n",
        "#include <random>\n",
        "#include <chrono>\n",
        "#include <thread>\n",
        "#include <vector>\n",
        "#include <cuda_runtime.h>\n",
        "\n",
        "using namespace std;\n",
        "\n",
        "__global__ void func(unsigned char* img, unsigned char* new_img, int rescaleFactor){\n",
        "  int n = 512;\n",
        "  int n2 = 256;\n",
        "  \n",
        "  int x = threadIdx.x;\n",
        "  int y = threadIdx.y;\n",
        "\n",
        "  if(x<n&&y<n){\n",
        "    int index = y*n+x;\n",
        "    int index2 = ((y/n2)*n2)+(x/n2);\n",
        "    new_img[index] = img[index2];\n",
        "  }\n",
        "}\n",
        "\n",
        "int main()\n",
        "{\n",
        "    int num_threads = 4;\n",
        "    cv::Size img_size(256, 256);\n",
        "    int rescaleFactor = 2;\n",
        "\n",
        "    cv::Mat img = cv::imread(\"/content/drive/MyDrive/images/img1.jpg\", cv::IMREAD_GRAYSCALE);\n",
        "    if(img.empty()){\n",
        "      cout<<\"empty\"<<endl;\n",
        "    }\n",
        "    cv::Mat new_img(img_size.height * rescaleFactor, img_size.width * rescaleFactor, CV_8UC1);\n",
        "\n",
        "    for (int i = 0; i < new_img.rows; i++) {\n",
        "        for (int j = 0; j < new_img.cols; j++) {\n",
        "            int x = i / rescaleFactor;\n",
        "            int y = j / rescaleFactor;\n",
        "            new_img.at<uchar>(i, j) = img.at<uchar>(x, y);\n",
        "        }\n",
        "    }\n",
        "\n",
        "    \n",
        "\n",
        "    bool success = cv::imwrite(\"output.jpg\",new_img);\n",
        "\n",
        "    uchar *dev_img;\n",
        "    cudaMalloc((void**)&dev_img, img.total() * sizeof(uchar));\n",
        "    cudaMemcpy(dev_img, img.data, img.total() * sizeof(uchar), cudaMemcpyHostToDevice);\n",
        "\n",
        "    cv::Mat new_img_p(img_size.height * rescaleFactor, img_size.width * rescaleFactor, CV_8UC1);\n",
        "    uchar *dev_new_img;\n",
        "    cudaMalloc((void**)&dev_new_img, new_img_p.total() * sizeof(uchar));\n",
        "    cudaMemcpy(dev_new_img, new_img_p.data, new_img_p.total() * sizeof(uchar), cudaMemcpyHostToDevice);\n",
        "\n",
        "    int *dev_rf;\n",
        "    cudaMalloc(&dev_rf, sizeof(int));\n",
        "    cudaMemcpy(dev_rf, &rescaleFactor, sizeof(int), cudaMemcpyHostToDevice);\n",
        "\n",
        "    dim3 blockDim(512,512);\n",
        "    func<<<1,blockDim>>>(dev_img,dev_new_img,*dev_rf);\n",
        "\n",
        "    cudaMemcpy(new_img_p.data, dev_new_img, new_img_p.total()*sizeof(uchar), cudaMemcpyDeviceToHost);\n",
        "\n",
        "    cudaFree(dev_img);\n",
        "    cudaFree(dev_new_img);\n",
        "    cudaFree(dev_rf);\n",
        "\n",
        "    success = cv::imwrite(\"output1.jpg\",new_img_p);\n",
        "    cout<<success<<endl;\n",
        "\n",
        "    return 0;\n",
        "}\n"
      ]
    },
    {
      "cell_type": "code",
      "source": [
        "!nvcc -arch=sm_70 -I/usr/local/cuda/include -L/usr/local/cuda/lib64 -lcudart a.cu -o a `pkg-config --cflags --libs opencv4`"
      ],
      "metadata": {
        "colab": {
          "base_uri": "https://localhost:8080/"
        },
        "id": "gb6zV-93Xbr8",
        "outputId": "7bb9aaa6-63fa-4fe2-d6bb-fc464cc4d25e"
      },
      "execution_count": null,
      "outputs": [
        {
          "output_type": "stream",
          "name": "stdout",
          "text": [
            "\u001b[01m\u001b[0m\u001b[01m/usr/include/opencv4/opencv2/stitching/detail/warpers.hpp(213)\u001b[0m: \u001b[01;35mwarning\u001b[0m #611-D: overloaded virtual function \u001b[01m\"cv::detail::PlaneWarper::buildMaps\"\u001b[0m is only partially overridden in class \u001b[01m\"cv::detail::AffineWarper\"\u001b[0m\n",
            "\n",
            "\u001b[01m\u001b[0m\u001b[01m/usr/include/opencv4/opencv2/stitching/detail/warpers.hpp(213)\u001b[0m: \u001b[01;35mwarning\u001b[0m #611-D: overloaded virtual function \u001b[01m\"cv::detail::PlaneWarper::warp\"\u001b[0m is only partially overridden in class \u001b[01m\"cv::detail::AffineWarper\"\u001b[0m\n",
            "\n",
            "\u001b[01m\u001b[0m\u001b[01m/usr/include/opencv4/opencv2/stitching/detail/blenders.hpp(100)\u001b[0m: \u001b[01;35mwarning\u001b[0m #611-D: overloaded virtual function \u001b[01m\"cv::detail::Blender::prepare\"\u001b[0m is only partially overridden in class \u001b[01m\"cv::detail::FeatherBlender\"\u001b[0m\n",
            "\n",
            "\u001b[01m\u001b[0m\u001b[01m/usr/include/opencv4/opencv2/stitching/detail/blenders.hpp(127)\u001b[0m: \u001b[01;35mwarning\u001b[0m #611-D: overloaded virtual function \u001b[01m\"cv::detail::Blender::prepare\"\u001b[0m is only partially overridden in class \u001b[01m\"cv::detail::MultiBandBlender\"\u001b[0m\n",
            "\n",
            "\u001b[01m\u001b[0m\u001b[01m/usr/include/opencv4/opencv2/videostab/motion_stabilizing.hpp(106)\u001b[0m: \u001b[01;35mwarning\u001b[0m #997-D: function \u001b[01m\"cv::videostab::IMotionStabilizer::stabilize(int, const std::vector<cv::Mat, std::allocator<cv::Mat>> &, std::pair<int, int>, cv::Mat *)\"\u001b[0m is hidden by \u001b[01m\"cv::videostab::GaussianMotionFilter::stabilize\"\u001b[0m -- virtual function override intended?\n",
            "\n",
            "\u001b[01m\u001b[0m\u001b[01ma.cu(28)\u001b[0m: \u001b[01;35mwarning\u001b[0m #177-D: variable \u001b[01m\"num_threads\"\u001b[0m was declared but never referenced\n",
            "\n",
            "\u001b[01m\u001b[0m\u001b[01m/usr/include/opencv4/opencv2/stitching/detail/warpers.hpp(213)\u001b[0m: \u001b[01;35mwarning\u001b[0m #611-D: overloaded virtual function \u001b[01m\"cv::detail::PlaneWarper::buildMaps\"\u001b[0m is only partially overridden in class \u001b[01m\"cv::detail::AffineWarper\"\u001b[0m\n",
            "\n",
            "\u001b[01m\u001b[0m\u001b[01m/usr/include/opencv4/opencv2/stitching/detail/warpers.hpp(213)\u001b[0m: \u001b[01;35mwarning\u001b[0m #611-D: overloaded virtual function \u001b[01m\"cv::detail::PlaneWarper::warp\"\u001b[0m is only partially overridden in class \u001b[01m\"cv::detail::AffineWarper\"\u001b[0m\n",
            "\n",
            "\u001b[01m\u001b[0m\u001b[01m/usr/include/opencv4/opencv2/stitching/detail/blenders.hpp(100)\u001b[0m: \u001b[01;35mwarning\u001b[0m #611-D: overloaded virtual function \u001b[01m\"cv::detail::Blender::prepare\"\u001b[0m is only partially overridden in class \u001b[01m\"cv::detail::FeatherBlender\"\u001b[0m\n",
            "\n",
            "\u001b[01m\u001b[0m\u001b[01m/usr/include/opencv4/opencv2/stitching/detail/blenders.hpp(127)\u001b[0m: \u001b[01;35mwarning\u001b[0m #611-D: overloaded virtual function \u001b[01m\"cv::detail::Blender::prepare\"\u001b[0m is only partially overridden in class \u001b[01m\"cv::detail::MultiBandBlender\"\u001b[0m\n",
            "\n",
            "\u001b[01m\u001b[0m\u001b[01m/usr/include/opencv4/opencv2/videostab/motion_stabilizing.hpp(106)\u001b[0m: \u001b[01;35mwarning\u001b[0m #997-D: function \u001b[01m\"cv::videostab::IMotionStabilizer::stabilize(int, const std::vector<cv::Mat, std::allocator<cv::Mat>> &, std::pair<int, int>, cv::Mat *)\"\u001b[0m is hidden by \u001b[01m\"cv::videostab::GaussianMotionFilter::stabilize\"\u001b[0m -- virtual function override intended?\n",
            "\n"
          ]
        }
      ]
    },
    {
      "cell_type": "code",
      "source": [
        "!./a"
      ],
      "metadata": {
        "id": "IYm1UGdtan9r"
      },
      "execution_count": null,
      "outputs": []
    },
    {
      "cell_type": "code",
      "source": [
        "from google.colab import drive\n",
        "drive.mount('/content/drive')"
      ],
      "metadata": {
        "colab": {
          "base_uri": "https://localhost:8080/"
        },
        "id": "1PY6Yk2PTZ3Z",
        "outputId": "fa3b093b-e8d7-43fa-d71b-47a61494f170"
      },
      "execution_count": null,
      "outputs": [
        {
          "output_type": "stream",
          "name": "stdout",
          "text": [
            "Mounted at /content/drive\n"
          ]
        }
      ]
    }
  ]
}